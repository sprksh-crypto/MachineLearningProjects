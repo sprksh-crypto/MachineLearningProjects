{
  "nbformat": 4,
  "nbformat_minor": 0,
  "metadata": {
    "colab": {
      "provenance": [],
      "authorship_tag": "ABX9TyOD+XvCwZFk35GgQt7wvgaN",
      "include_colab_link": true
    },
    "kernelspec": {
      "name": "python3",
      "display_name": "Python 3"
    },
    "language_info": {
      "name": "python"
    }
  },
  "cells": [
    {
      "cell_type": "markdown",
      "metadata": {
        "id": "view-in-github",
        "colab_type": "text"
      },
      "source": [
        "<a href=\"https://colab.research.google.com/github/sprksh-crypto/MachineLearningProjects/blob/main/Preprocessing.ipynb\" target=\"_parent\"><img src=\"https://colab.research.google.com/assets/colab-badge.svg\" alt=\"Open In Colab\"/></a>"
      ]
    },
    {
      "cell_type": "code",
      "execution_count": null,
      "metadata": {
        "id": "dcit7dLTjyjf"
      },
      "outputs": [],
      "source": [
        "#Need to create preprocessing layer.\n",
        "\n",
        "def preproc(image,label):\n",
        "  inp=keras.applications.xception.preprocess_input(image)\n",
        "  return inp,label\n",
        "\n",
        "#Do I only use this, because you want heterogenous outputs to be put into\n",
        "def preprocessWithAspectRatio(image,label):\n",
        "  resized_image=tf.image.resize_with_pad(image,299,299)\n",
        "  final_image=keras.applications.xception.preprocess_input(resized_image)\n",
        "  return final_image, label\n",
        "\n",
        "trainPipeAug=trainPipeAug.map(preproc,num_parallel_calls=32).batch(64).prefetch(1)\n",
        "\n",
        "validPipe=validSet.map(preprocessWithAspectRatio,num_parallel_calls=32).batch(64).prefetch(1)\n",
        "\n",
        "testPipe=testSet.map(preprocessWithAspectRatio,num_parallel_calls=32).batch(64).prefetch(1)"
      ]
    }
  ]
}