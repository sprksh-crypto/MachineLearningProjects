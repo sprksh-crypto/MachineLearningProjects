{
  "nbformat": 4,
  "nbformat_minor": 0,
  "metadata": {
    "colab": {
      "provenance": [],
      "gpuType": "T4",
      "authorship_tag": "ABX9TyNSgVK5Z1OPTrgmWxz3bh1o",
      "include_colab_link": true
    },
    "kernelspec": {
      "name": "python3",
      "display_name": "Python 3"
    },
    "language_info": {
      "name": "python"
    },
    "accelerator": "GPU",
    "gpuClass": "standard"
  },
  "cells": [
    {
      "cell_type": "markdown",
      "metadata": {
        "id": "view-in-github",
        "colab_type": "text"
      },
      "source": [
        "<a href=\"https://colab.research.google.com/github/sprksh-crypto/MachineLearningProjects/blob/transfer/buildAndTrainBirdsVsSquirrels.ipynb\" target=\"_parent\"><img src=\"https://colab.research.google.com/assets/colab-badge.svg\" alt=\"Open In Colab\"/></a>"
      ]
    },
    {
      "cell_type": "code",
      "source": [
        "#This code is to differentiate between 1. Birds (no squirrels/chipmunks) 2. Squirrel/Chipmunk\n",
        "#3. feeder or tree without squirrels, chipmunks, or birds.\n",
        "#Mount drive.\n",
        "\n",
        "from google.colab import drive\n",
        "\n",
        "#for authorisation\n",
        "drive.mount('/content/drive')\n",
        "\n",
        "#Drive files in \"/content/drive/My Drive\".\n",
        "!ls \"/content/drive/My Drive\"\n",
        "\n",
        "import tensorflow as tf\n",
        "import numpy as np"
      ],
      "metadata": {
        "id": "GztYR3NSt9Ce",
        "colab": {
          "base_uri": "https://localhost:8080/"
        },
        "outputId": "3578a2b5-8cc8-4513-f289-3eb96dc18a91"
      },
      "execution_count": null,
      "outputs": [
        {
          "output_type": "stream",
          "name": "stdout",
          "text": [
            "Mounted at /content/drive\n",
            "'1 Research 5_3_23.ipynb'\t\t  'ML Class Code 1 (Flowers).ipynb'\n",
            " birderModel\t\t\t\t  'ML Lab 1'\n",
            " birds-10-eachOf-358.tfrecords\t\t  'ML textbook code 1.ipynb'\n",
            " birds-20-eachOf-358.tfrecords\t\t  'Physics Project'\n",
            " birds-vs-squirrels-train.tfrecords\t  'Physics Scripts'\n",
            " birds-vs-squirrels-validation.tfrecords   Pics\n",
            " buildtrainBirdsvSquirrels.ipynb\t   Untitled1.ipynb\n",
            "'Essay Drafts'\n"
          ]
        }
      ]
    },
    {
      "cell_type": "code",
      "source": [
        "filepath=['/content/drive/My Drive/birds-vs-squirrels-train.tfrecords']\n",
        "filepath1=['/content/drive/My Drive/birds-vs-squirrels-validation.tfrecords']\n",
        "\n",
        "raw_birdSquirrel_training_dataset=tf.data.TFRecordDataset(filepath)\n",
        "raw_birdSquirrel_validation_dataset=tf.data.TFRecordDataset(filepath1)"
      ],
      "metadata": {
        "id": "v7SoV8YRwX0P"
      },
      "execution_count": null,
      "outputs": []
    },
    {
      "cell_type": "code",
      "source": [
        "#Need to create testing set from given sets.\n",
        "datLen=raw_birdSquirrel_training_dataset.reduce(0,lambda x,y: x+1)\n",
        "\n",
        "n_train=int(datLen.numpy()*.85)\n",
        "n_test=int(datLen.numpy()*.15)"
      ],
      "metadata": {
        "id": "dcWUNfFOTo0e"
      },
      "execution_count": null,
      "outputs": []
    },
    {
      "cell_type": "code",
      "source": [
        "feature_description={'image':tf.io.FixedLenFeature([],tf.string),'label':tf.io.FixedLenFeature([],tf.int64)}\n",
        "\n",
        "#Define parse example to load data.\n",
        "\n",
        "def parse_examples(serialized_examples):\n",
        "  examples=tf.io.parse_example(serialized_examples,feature_description)\n",
        "  targets=examples.pop('label')\n",
        "  images=tf.image.resize_with_pad(tf.cast(tf.io.decode_jpeg(examples['image'],channels=3),tf.float32),299,299)\n",
        "  return images, targets"
      ],
      "metadata": {
        "id": "ZzELOGmN1BGv"
      },
      "execution_count": null,
      "outputs": []
    },
    {
      "cell_type": "code",
      "source": [
        "#Load in dataset.\n",
        "#But do I want to load it as supervised.\n",
        "training_dataset_BS=raw_birdSquirrel_training_dataset.take(n_train).map(parse_examples,num_parallel_calls=tf.data.AUTOTUNE)\n",
        "validation_dataset_BS=raw_birdSquirrel_validation_dataset.map(parse_examples,num_parallel_calls=tf.data.AUTOTUNE)\n",
        "\n",
        "testing_dataset_BS=raw_birdSquirrel_training_dataset.skip(n_train).take(n_test).map(parse_examples,num_parallel_calls=tf.data.AUTOTUNE)"
      ],
      "metadata": {
        "id": "qGUtsGT30qT2"
      },
      "execution_count": null,
      "outputs": []
    },
    {
      "cell_type": "code",
      "source": [
        "#Print to see if working.\n",
        "#for el in training_dataset_BS.take(1):\n",
        "#  print(el)"
      ],
      "metadata": {
        "id": "pfp3TeaEITBX"
      },
      "execution_count": null,
      "outputs": []
    },
    {
      "cell_type": "code",
      "source": [
        "#Preprocessing layer.\n",
        "\n",
        "def preproc(image,label):\n",
        "  inp=tf.keras.applications.xception.preprocess_input(image)\n",
        "  return inp,label"
      ],
      "metadata": {
        "id": "rtwuGG8lRzXV"
      },
      "execution_count": null,
      "outputs": []
    },
    {
      "cell_type": "code",
      "source": [
        "#Apply preprocessing layer.\n",
        "\n",
        "training_dataset_BS1=training_dataset_BS.take(n_train).map(preproc,num_parallel_calls=tf.data.AUTOTUNE).batch(64)\n",
        "validation_dataset_BS1=validation_dataset_BS.map(preproc,num_parallel_calls=tf.data.AUTOTUNE).batch(64)\n",
        "\n",
        "testing_dataset_BS1=testing_dataset_BS.skip(n_train).take(n_test).map(preproc,num_parallel_calls=tf.data.AUTOTUNE).batch(64)"
      ],
      "metadata": {
        "id": "r0xHHERmSj2x"
      },
      "execution_count": null,
      "outputs": []
    },
    {
      "cell_type": "code",
      "source": [
        "#Defining model.\n",
        "\n",
        "#Remove top layer and look.\n",
        "\n",
        "base_model=tf.keras.applications.xception.Xception(weights='imagenet',include_top=False)\n",
        "#base_model.summary()"
      ],
      "metadata": {
        "id": "eu61M8pj2-UD"
      },
      "execution_count": null,
      "outputs": []
    },
    {
      "cell_type": "code",
      "source": [
        "#Add new top layer.\n",
        "avg=tf.keras.layers.GlobalAveragePooling2D()(base_model.output)\n",
        "output=tf.keras.layers.Dense(3,activation=\"softmax\")(avg)\n",
        "model=tf.keras.models.Model(inputs=base_model.input,outputs=output)\n",
        "#model.summary()"
      ],
      "metadata": {
        "id": "SknDncnJ49TG"
      },
      "execution_count": null,
      "outputs": []
    },
    {
      "cell_type": "code",
      "source": [
        "#Freeze the weights of the lower layers.\n",
        "#Why when print, the last two are true? SHouldn't it just be the last?\n",
        "\n",
        "for layer in base_model.layers:\n",
        "  layer.trainable=False\n",
        "\n",
        "#for layer in model.layers:\n",
        "#  print(layer.trainable)"
      ],
      "metadata": {
        "id": "3c1AiZiEJLpC"
      },
      "execution_count": null,
      "outputs": []
    },
    {
      "cell_type": "code",
      "source": [
        "#Fit the new upper layer.\n",
        "\n",
        "checkpoint_cb=tf.keras.callbacks.ModelCheckpoint('BirdSquirrelMod-topFit.tgz',save_best_only=True)\n",
        "\n",
        "earlyStop_cb=tf.keras.callbacks.EarlyStopping(patience=10,restore_best_weights=True)\n",
        "\n",
        "ss=0.001\n",
        "\n",
        "opt=tf.keras.optimizers.SGD(learning_rate=ss)\n",
        "\n",
        "model.compile(loss=\"sparse_categorical_crossentropy\",optimizer=opt,metrics=[\"accuracy\"])\n",
        "\n",
        "model.fit(training_dataset_BS1,validation_data=validation_dataset_BS1,epochs=20,callbacks=[checkpoint_cb,earlyStop_cb])"
      ],
      "metadata": {
        "id": "BRZp0tODKOkC",
        "colab": {
          "base_uri": "https://localhost:8080/"
        },
        "outputId": "bd3f8d28-5ccd-4e48-aa14-81aa01e65243"
      },
      "execution_count": null,
      "outputs": [
        {
          "output_type": "stream",
          "name": "stdout",
          "text": [
            "Epoch 1/20\n",
            "    109/Unknown - 52s 455ms/step - loss: 0.3556 - accuracy: 0.9482"
          ]
        },
        {
          "output_type": "stream",
          "name": "stderr",
          "text": [
            "WARNING:absl:Found untraced functions such as _jit_compiled_convolution_op, _jit_compiled_convolution_op, _jit_compiled_convolution_op, _jit_compiled_convolution_op, _jit_compiled_convolution_op while saving (showing 5 of 40). These functions will not be directly callable after loading.\n"
          ]
        },
        {
          "output_type": "stream",
          "name": "stdout",
          "text": [
            "\b\b\b\b\b\b\b\b\b\b\b\b\b\b\b\b\b\b\b\b\b\b\b\b\b\b\b\b\b\b\b\b\b\b\b\b\b\b\b\b\b\b\b\b\b\b\b\b\b\b\b\b\b\b\b\b\b\b\b\b\b\b\b\b\b\b\r109/109 [==============================] - 88s 788ms/step - loss: 0.3556 - accuracy: 0.9482 - val_loss: 0.3593 - val_accuracy: 0.9582\n",
            "Epoch 2/20\n",
            "109/109 [==============================] - ETA: 0s - loss: 0.3368 - accuracy: 0.9502"
          ]
        },
        {
          "output_type": "stream",
          "name": "stderr",
          "text": [
            "WARNING:absl:Found untraced functions such as _jit_compiled_convolution_op, _jit_compiled_convolution_op, _jit_compiled_convolution_op, _jit_compiled_convolution_op, _jit_compiled_convolution_op while saving (showing 5 of 40). These functions will not be directly callable after loading.\n"
          ]
        },
        {
          "output_type": "stream",
          "name": "stdout",
          "text": [
            "\b\b\b\b\b\b\b\b\b\b\b\b\b\b\b\b\b\b\b\b\b\b\b\b\b\b\b\b\b\b\b\b\b\b\b\b\b\b\b\b\b\b\b\b\b\b\b\b\b\b\b\b\b\b\b\b\b\b\b\b\b\b\b\b\b\b\b\b\b\b\b\b\b\b\b\b\b\b\b\b\b\b\b\b\r109/109 [==============================] - 82s 757ms/step - loss: 0.3368 - accuracy: 0.9502 - val_loss: 0.3411 - val_accuracy: 0.9597\n",
            "Epoch 3/20\n",
            "109/109 [==============================] - ETA: 0s - loss: 0.3205 - accuracy: 0.9524"
          ]
        },
        {
          "output_type": "stream",
          "name": "stderr",
          "text": [
            "WARNING:absl:Found untraced functions such as _jit_compiled_convolution_op, _jit_compiled_convolution_op, _jit_compiled_convolution_op, _jit_compiled_convolution_op, _jit_compiled_convolution_op while saving (showing 5 of 40). These functions will not be directly callable after loading.\n"
          ]
        },
        {
          "output_type": "stream",
          "name": "stdout",
          "text": [
            "\b\b\b\b\b\b\b\b\b\b\b\b\b\b\b\b\b\b\b\b\b\b\b\b\b\b\b\b\b\b\b\b\b\b\b\b\b\b\b\b\b\b\b\b\b\b\b\b\b\b\b\b\b\b\b\b\b\b\b\b\b\b\b\b\b\b\b\b\b\b\b\b\b\b\b\b\b\b\b\b\b\b\b\b\r109/109 [==============================] - 82s 755ms/step - loss: 0.3205 - accuracy: 0.9524 - val_loss: 0.3252 - val_accuracy: 0.9601\n",
            "Epoch 4/20\n",
            "109/109 [==============================] - ETA: 0s - loss: 0.3061 - accuracy: 0.9531"
          ]
        },
        {
          "output_type": "stream",
          "name": "stderr",
          "text": [
            "WARNING:absl:Found untraced functions such as _jit_compiled_convolution_op, _jit_compiled_convolution_op, _jit_compiled_convolution_op, _jit_compiled_convolution_op, _jit_compiled_convolution_op while saving (showing 5 of 40). These functions will not be directly callable after loading.\n"
          ]
        },
        {
          "output_type": "stream",
          "name": "stdout",
          "text": [
            "\b\b\b\b\b\b\b\b\b\b\b\b\b\b\b\b\b\b\b\b\b\b\b\b\b\b\b\b\b\b\b\b\b\b\b\b\b\b\b\b\b\b\b\b\b\b\b\b\b\b\b\b\b\b\b\b\b\b\b\b\b\b\b\b\b\b\b\b\b\b\b\b\b\b\b\b\b\b\b\b\b\b\b\b\r109/109 [==============================] - 85s 781ms/step - loss: 0.3061 - accuracy: 0.9531 - val_loss: 0.3112 - val_accuracy: 0.9609\n",
            "Epoch 5/20\n",
            "109/109 [==============================] - ETA: 0s - loss: 0.2934 - accuracy: 0.9540"
          ]
        },
        {
          "output_type": "stream",
          "name": "stderr",
          "text": [
            "WARNING:absl:Found untraced functions such as _jit_compiled_convolution_op, _jit_compiled_convolution_op, _jit_compiled_convolution_op, _jit_compiled_convolution_op, _jit_compiled_convolution_op while saving (showing 5 of 40). These functions will not be directly callable after loading.\n"
          ]
        },
        {
          "output_type": "stream",
          "name": "stdout",
          "text": [
            "\b\b\b\b\b\b\b\b\b\b\b\b\b\b\b\b\b\b\b\b\b\b\b\b\b\b\b\b\b\b\b\b\b\b\b\b\b\b\b\b\b\b\b\b\b\b\b\b\b\b\b\b\b\b\b\b\b\b\b\b\b\b\b\b\b\b\b\b\b\b\b\b\b\b\b\b\b\b\b\b\b\b\b\b\r109/109 [==============================] - 83s 758ms/step - loss: 0.2934 - accuracy: 0.9540 - val_loss: 0.2988 - val_accuracy: 0.9617\n",
            "Epoch 6/20\n",
            "109/109 [==============================] - ETA: 0s - loss: 0.2821 - accuracy: 0.9553"
          ]
        },
        {
          "output_type": "stream",
          "name": "stderr",
          "text": [
            "WARNING:absl:Found untraced functions such as _jit_compiled_convolution_op, _jit_compiled_convolution_op, _jit_compiled_convolution_op, _jit_compiled_convolution_op, _jit_compiled_convolution_op while saving (showing 5 of 40). These functions will not be directly callable after loading.\n"
          ]
        },
        {
          "output_type": "stream",
          "name": "stdout",
          "text": [
            "\b\b\b\b\b\b\b\b\b\b\b\b\b\b\b\b\b\b\b\b\b\b\b\b\b\b\b\b\b\b\b\b\b\b\b\b\b\b\b\b\b\b\b\b\b\b\b\b\b\b\b\b\b\b\b\b\b\b\b\b\b\b\b\b\b\b\b\b\b\b\b\b\b\b\b\b\b\b\b\b\b\b\b\b\r109/109 [==============================] - 83s 758ms/step - loss: 0.2821 - accuracy: 0.9553 - val_loss: 0.2877 - val_accuracy: 0.9629\n",
            "Epoch 7/20\n",
            "109/109 [==============================] - ETA: 0s - loss: 0.2719 - accuracy: 0.9563"
          ]
        },
        {
          "output_type": "stream",
          "name": "stderr",
          "text": [
            "WARNING:absl:Found untraced functions such as _jit_compiled_convolution_op, _jit_compiled_convolution_op, _jit_compiled_convolution_op, _jit_compiled_convolution_op, _jit_compiled_convolution_op while saving (showing 5 of 40). These functions will not be directly callable after loading.\n"
          ]
        },
        {
          "output_type": "stream",
          "name": "stdout",
          "text": [
            "\b\b\b\b\b\b\b\b\b\b\b\b\b\b\b\b\b\b\b\b\b\b\b\b\b\b\b\b\b\b\b\b\b\b\b\b\b\b\b\b\b\b\b\b\b\b\b\b\b\b\b\b\b\b\b\b\b\b\b\b\b\b\b\b\b\b\b\b\b\b\b\b\b\b\b\b\b\b\b\b\b\b\b\b\r109/109 [==============================] - 82s 752ms/step - loss: 0.2719 - accuracy: 0.9563 - val_loss: 0.2777 - val_accuracy: 0.9637\n",
            "Epoch 8/20\n",
            "109/109 [==============================] - ETA: 0s - loss: 0.2627 - accuracy: 0.9570"
          ]
        },
        {
          "output_type": "stream",
          "name": "stderr",
          "text": [
            "WARNING:absl:Found untraced functions such as _jit_compiled_convolution_op, _jit_compiled_convolution_op, _jit_compiled_convolution_op, _jit_compiled_convolution_op, _jit_compiled_convolution_op while saving (showing 5 of 40). These functions will not be directly callable after loading.\n"
          ]
        },
        {
          "output_type": "stream",
          "name": "stdout",
          "text": [
            "\b\b\b\b\b\b\b\b\b\b\b\b\b\b\b\b\b\b\b\b\b\b\b\b\b\b\b\b\b\b\b\b\b\b\b\b\b\b\b\b\b\b\b\b\b\b\b\b\b\b\b\b\b\b\b\b\b\b\b\b\b\b\b\b\b\b\b\b\b\b\b\b\b\b\b\b\b\b\b\b\b\b\b\b\r109/109 [==============================] - 83s 760ms/step - loss: 0.2627 - accuracy: 0.9570 - val_loss: 0.2687 - val_accuracy: 0.9645\n",
            "Epoch 9/20\n",
            "109/109 [==============================] - ETA: 0s - loss: 0.2543 - accuracy: 0.9576"
          ]
        },
        {
          "output_type": "stream",
          "name": "stderr",
          "text": [
            "WARNING:absl:Found untraced functions such as _jit_compiled_convolution_op, _jit_compiled_convolution_op, _jit_compiled_convolution_op, _jit_compiled_convolution_op, _jit_compiled_convolution_op while saving (showing 5 of 40). These functions will not be directly callable after loading.\n"
          ]
        },
        {
          "output_type": "stream",
          "name": "stdout",
          "text": [
            "\b\b\b\b\b\b\b\b\b\b\b\b\b\b\b\b\b\b\b\b\b\b\b\b\b\b\b\b\b\b\b\b\b\b\b\b\b\b\b\b\b\b\b\b\b\b\b\b\b\b\b\b\b\b\b\b\b\b\b\b\b\b\b\b\b\b\b\b\b\b\b\b\b\b\b\b\b\b\b\b\b\b\b\b\r109/109 [==============================] - 85s 781ms/step - loss: 0.2543 - accuracy: 0.9576 - val_loss: 0.2605 - val_accuracy: 0.9641\n",
            "Epoch 10/20\n",
            "109/109 [==============================] - ETA: 0s - loss: 0.2467 - accuracy: 0.9589"
          ]
        },
        {
          "output_type": "stream",
          "name": "stderr",
          "text": [
            "WARNING:absl:Found untraced functions such as _jit_compiled_convolution_op, _jit_compiled_convolution_op, _jit_compiled_convolution_op, _jit_compiled_convolution_op, _jit_compiled_convolution_op while saving (showing 5 of 40). These functions will not be directly callable after loading.\n"
          ]
        },
        {
          "output_type": "stream",
          "name": "stdout",
          "text": [
            "\b\b\b\b\b\b\b\b\b\b\b\b\b\b\b\b\b\b\b\b\b\b\b\b\b\b\b\b\b\b\b\b\b\b\b\b\b\b\b\b\b\b\b\b\b\b\b\b\b\b\b\b\b\b\b\b\b\b\b\b\b\b\b\b\b\b\b\b\b\b\b\b\b\b\b\b\b\b\b\b\b\b\b\b\r109/109 [==============================] - 83s 760ms/step - loss: 0.2467 - accuracy: 0.9589 - val_loss: 0.2530 - val_accuracy: 0.9645\n",
            "Epoch 11/20\n",
            "109/109 [==============================] - ETA: 0s - loss: 0.2397 - accuracy: 0.9592"
          ]
        },
        {
          "output_type": "stream",
          "name": "stderr",
          "text": [
            "WARNING:absl:Found untraced functions such as _jit_compiled_convolution_op, _jit_compiled_convolution_op, _jit_compiled_convolution_op, _jit_compiled_convolution_op, _jit_compiled_convolution_op while saving (showing 5 of 40). These functions will not be directly callable after loading.\n"
          ]
        },
        {
          "output_type": "stream",
          "name": "stdout",
          "text": [
            "\b\b\b\b\b\b\b\b\b\b\b\b\b\b\b\b\b\b\b\b\b\b\b\b\b\b\b\b\b\b\b\b\b\b\b\b\b\b\b\b\b\b\b\b\b\b\b\b\b\b\b\b\b\b\b\b\b\b\b\b\b\b\b\b\b\b\b\b\b\b\b\b\b\b\b\b\b\b\b\b\b\b\b\b\r109/109 [==============================] - 80s 738ms/step - loss: 0.2397 - accuracy: 0.9592 - val_loss: 0.2461 - val_accuracy: 0.9649\n",
            "Epoch 12/20\n",
            "109/109 [==============================] - ETA: 0s - loss: 0.2332 - accuracy: 0.9600"
          ]
        },
        {
          "output_type": "stream",
          "name": "stderr",
          "text": [
            "WARNING:absl:Found untraced functions such as _jit_compiled_convolution_op, _jit_compiled_convolution_op, _jit_compiled_convolution_op, _jit_compiled_convolution_op, _jit_compiled_convolution_op while saving (showing 5 of 40). These functions will not be directly callable after loading.\n"
          ]
        },
        {
          "output_type": "stream",
          "name": "stdout",
          "text": [
            "\b\b\b\b\b\b\b\b\b\b\b\b\b\b\b\b\b\b\b\b\b\b\b\b\b\b\b\b\b\b\b\b\b\b\b\b\b\b\b\b\b\b\b\b\b\b\b\b\b\b\b\b\b\b\b\b\b\b\b\b\b\b\b\b\b\b\b\b\b\b\b\b\b\b\b\b\b\b\b\b\b\b\b\b\r109/109 [==============================] - 84s 771ms/step - loss: 0.2332 - accuracy: 0.9600 - val_loss: 0.2398 - val_accuracy: 0.9653\n",
            "Epoch 13/20\n",
            "109/109 [==============================] - ETA: 0s - loss: 0.2272 - accuracy: 0.9606"
          ]
        },
        {
          "output_type": "stream",
          "name": "stderr",
          "text": [
            "WARNING:absl:Found untraced functions such as _jit_compiled_convolution_op, _jit_compiled_convolution_op, _jit_compiled_convolution_op, _jit_compiled_convolution_op, _jit_compiled_convolution_op while saving (showing 5 of 40). These functions will not be directly callable after loading.\n"
          ]
        },
        {
          "output_type": "stream",
          "name": "stdout",
          "text": [
            "\b\b\b\b\b\b\b\b\b\b\b\b\b\b\b\b\b\b\b\b\b\b\b\b\b\b\b\b\b\b\b\b\b\b\b\b\b\b\b\b\b\b\b\b\b\b\b\b\b\b\b\b\b\b\b\b\b\b\b\b\b\b\b\b\b\b\b\b\b\b\b\b\b\b\b\b\b\b\b\b\b\b\b\b\r109/109 [==============================] - 85s 782ms/step - loss: 0.2272 - accuracy: 0.9606 - val_loss: 0.2339 - val_accuracy: 0.9653\n",
            "Epoch 14/20\n",
            "109/109 [==============================] - ETA: 0s - loss: 0.2217 - accuracy: 0.9609"
          ]
        },
        {
          "output_type": "stream",
          "name": "stderr",
          "text": [
            "WARNING:absl:Found untraced functions such as _jit_compiled_convolution_op, _jit_compiled_convolution_op, _jit_compiled_convolution_op, _jit_compiled_convolution_op, _jit_compiled_convolution_op while saving (showing 5 of 40). These functions will not be directly callable after loading.\n"
          ]
        },
        {
          "output_type": "stream",
          "name": "stdout",
          "text": [
            "\b\b\b\b\b\b\b\b\b\b\b\b\b\b\b\b\b\b\b\b\b\b\b\b\b\b\b\b\b\b\b\b\b\b\b\b\b\b\b\b\b\b\b\b\b\b\b\b\b\b\b\b\b\b\b\b\b\b\b\b\b\b\b\b\b\b\b\b\b\b\b\b\b\b\b\b\b\b\b\b\b\b\b\b\r109/109 [==============================] - 83s 762ms/step - loss: 0.2217 - accuracy: 0.9609 - val_loss: 0.2285 - val_accuracy: 0.9657\n",
            "Epoch 15/20\n",
            "109/109 [==============================] - ETA: 0s - loss: 0.2166 - accuracy: 0.9619"
          ]
        },
        {
          "output_type": "stream",
          "name": "stderr",
          "text": [
            "WARNING:absl:Found untraced functions such as _jit_compiled_convolution_op, _jit_compiled_convolution_op, _jit_compiled_convolution_op, _jit_compiled_convolution_op, _jit_compiled_convolution_op while saving (showing 5 of 40). These functions will not be directly callable after loading.\n"
          ]
        },
        {
          "output_type": "stream",
          "name": "stdout",
          "text": [
            "\b\b\b\b\b\b\b\b\b\b\b\b\b\b\b\b\b\b\b\b\b\b\b\b\b\b\b\b\b\b\b\b\b\b\b\b\b\b\b\b\b\b\b\b\b\b\b\b\b\b\b\b\b\b\b\b\b\b\b\b\b\b\b\b\b\b\b\b\b\b\b\b\b\b\b\b\b\b\b\b\b\b\b\b\r109/109 [==============================] - 81s 740ms/step - loss: 0.2166 - accuracy: 0.9619 - val_loss: 0.2234 - val_accuracy: 0.9657\n",
            "Epoch 16/20\n",
            "109/109 [==============================] - ETA: 0s - loss: 0.2118 - accuracy: 0.9623"
          ]
        },
        {
          "output_type": "stream",
          "name": "stderr",
          "text": [
            "WARNING:absl:Found untraced functions such as _jit_compiled_convolution_op, _jit_compiled_convolution_op, _jit_compiled_convolution_op, _jit_compiled_convolution_op, _jit_compiled_convolution_op while saving (showing 5 of 40). These functions will not be directly callable after loading.\n"
          ]
        },
        {
          "output_type": "stream",
          "name": "stdout",
          "text": [
            "\b\b\b\b\b\b\b\b\b\b\b\b\b\b\b\b\b\b\b\b\b\b\b\b\b\b\b\b\b\b\b\b\b\b\b\b\b\b\b\b\b\b\b\b\b\b\b\b\b\b\b\b\b\b\b\b\b\b\b\b\b\b\b\b\b\b\b\b\b\b\b\b\b\b\b\b\b\b\b\b\b\b\b\b\r109/109 [==============================] - 87s 796ms/step - loss: 0.2118 - accuracy: 0.9623 - val_loss: 0.2187 - val_accuracy: 0.9653\n",
            "Epoch 17/20\n",
            "109/109 [==============================] - ETA: 0s - loss: 0.2073 - accuracy: 0.9629"
          ]
        },
        {
          "output_type": "stream",
          "name": "stderr",
          "text": [
            "WARNING:absl:Found untraced functions such as _jit_compiled_convolution_op, _jit_compiled_convolution_op, _jit_compiled_convolution_op, _jit_compiled_convolution_op, _jit_compiled_convolution_op while saving (showing 5 of 40). These functions will not be directly callable after loading.\n"
          ]
        },
        {
          "output_type": "stream",
          "name": "stdout",
          "text": [
            "\b\b\b\b\b\b\b\b\b\b\b\b\b\b\b\b\b\b\b\b\b\b\b\b\b\b\b\b\b\b\b\b\b\b\b\b\b\b\b\b\b\b\b\b\b\b\b\b\b\b\b\b\b\b\b\b\b\b\b\b\b\b\b\b\b\b\b\b\b\b\b\b\b\b\b\b\b\b\b\b\b\b\b\b\r109/109 [==============================] - 86s 788ms/step - loss: 0.2073 - accuracy: 0.9629 - val_loss: 0.2143 - val_accuracy: 0.9649\n",
            "Epoch 18/20\n",
            "109/109 [==============================] - ETA: 0s - loss: 0.2031 - accuracy: 0.9632"
          ]
        },
        {
          "output_type": "stream",
          "name": "stderr",
          "text": [
            "WARNING:absl:Found untraced functions such as _jit_compiled_convolution_op, _jit_compiled_convolution_op, _jit_compiled_convolution_op, _jit_compiled_convolution_op, _jit_compiled_convolution_op while saving (showing 5 of 40). These functions will not be directly callable after loading.\n"
          ]
        },
        {
          "output_type": "stream",
          "name": "stdout",
          "text": [
            "\b\b\b\b\b\b\b\b\b\b\b\b\b\b\b\b\b\b\b\b\b\b\b\b\b\b\b\b\b\b\b\b\b\b\b\b\b\b\b\b\b\b\b\b\b\b\b\b\b\b\b\b\b\b\b\b\b\b\b\b\b\b\b\b\b\b\b\b\b\b\b\b\b\b\b\b\b\b\b\b\b\b\b\b\r109/109 [==============================] - 79s 729ms/step - loss: 0.2031 - accuracy: 0.9632 - val_loss: 0.2102 - val_accuracy: 0.9653\n",
            "Epoch 19/20\n",
            "109/109 [==============================] - ETA: 0s - loss: 0.1992 - accuracy: 0.9636"
          ]
        },
        {
          "output_type": "stream",
          "name": "stderr",
          "text": [
            "WARNING:absl:Found untraced functions such as _jit_compiled_convolution_op, _jit_compiled_convolution_op, _jit_compiled_convolution_op, _jit_compiled_convolution_op, _jit_compiled_convolution_op while saving (showing 5 of 40). These functions will not be directly callable after loading.\n"
          ]
        },
        {
          "output_type": "stream",
          "name": "stdout",
          "text": [
            "\b\b\b\b\b\b\b\b\b\b\b\b\b\b\b\b\b\b\b\b\b\b\b\b\b\b\b\b\b\b\b\b\b\b\b\b\b\b\b\b\b\b\b\b\b\b\b\b\b\b\b\b\b\b\b\b\b\b\b\b\b\b\b\b\b\b\b\b\b\b\b\b\b\b\b\b\b\b\b\b\b\b\b\b\r109/109 [==============================] - 83s 762ms/step - loss: 0.1992 - accuracy: 0.9636 - val_loss: 0.2064 - val_accuracy: 0.9661\n",
            "Epoch 20/20\n",
            "109/109 [==============================] - ETA: 0s - loss: 0.1954 - accuracy: 0.9644"
          ]
        },
        {
          "output_type": "stream",
          "name": "stderr",
          "text": [
            "WARNING:absl:Found untraced functions such as _jit_compiled_convolution_op, _jit_compiled_convolution_op, _jit_compiled_convolution_op, _jit_compiled_convolution_op, _jit_compiled_convolution_op while saving (showing 5 of 40). These functions will not be directly callable after loading.\n"
          ]
        },
        {
          "output_type": "stream",
          "name": "stdout",
          "text": [
            "\b\b\b\b\b\b\b\b\b\b\b\b\b\b\b\b\b\b\b\b\b\b\b\b\b\b\b\b\b\b\b\b\b\b\b\b\b\b\b\b\b\b\b\b\b\b\b\b\b\b\b\b\b\b\b\b\b\b\b\b\b\b\b\b\b\b\b\b\b\b\b\b\b\b\b\b\b\b\b\b\b\b\b\b\r109/109 [==============================] - 82s 756ms/step - loss: 0.1954 - accuracy: 0.9644 - val_loss: 0.2027 - val_accuracy: 0.9661\n"
          ]
        },
        {
          "output_type": "execute_result",
          "data": {
            "text/plain": [
              "<keras.callbacks.History at 0x7f28b825b970>"
            ]
          },
          "metadata": {},
          "execution_count": 13
        }
      ]
    },
    {
      "cell_type": "code",
      "execution_count": null,
      "metadata": {
        "id": "1IQc_uU9hzR4",
        "colab": {
          "base_uri": "https://localhost:8080/"
        },
        "outputId": "b1ff7027-03f9-4e51-f675-5221943df389"
      },
      "outputs": [
        {
          "output_type": "stream",
          "name": "stderr",
          "text": [
            "WARNING:absl:Found untraced functions such as _jit_compiled_convolution_op, _jit_compiled_convolution_op, _jit_compiled_convolution_op, _jit_compiled_convolution_op, _jit_compiled_convolution_op while saving (showing 5 of 40). These functions will not be directly callable after loading.\n"
          ]
        }
      ],
      "source": [
        "tf.saved_model.save(model, '/content/drive/My Drive/birdsVsSquirrelsModel')"
      ]
    }
  ]
}