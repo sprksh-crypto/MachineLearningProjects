{
  "nbformat": 4,
  "nbformat_minor": 0,
  "metadata": {
    "colab": {
      "provenance": [],
      "include_colab_link": true
    },
    "kernelspec": {
      "name": "python3",
      "display_name": "Python 3"
    },
    "language_info": {
      "name": "python"
    }
  },
  "cells": [
    {
      "cell_type": "markdown",
      "metadata": {
        "id": "view-in-github",
        "colab_type": "text"
      },
      "source": [
        "<a href=\"https://colab.research.google.com/github/sprksh-crypto/MachineLearningProjects/blob/Classification/createSavedDataset.ipynb\" target=\"_parent\"><img src=\"https://colab.research.google.com/assets/colab-badge.svg\" alt=\"Open In Colab\"/></a>"
      ]
    },
    {
      "cell_type": "code",
      "execution_count": null,
      "metadata": {
        "id": "eG8XASfHS-VI",
        "colab": {
          "base_uri": "https://localhost:8080/"
        },
        "outputId": "81dd431f-d70c-45f3-a02f-1cc8f23053ad"
      },
      "outputs": [
        {
          "output_type": "stream",
          "name": "stdout",
          "text": [
            "Drive already mounted at /content/drive; to attempt to forcibly remount, call drive.mount(\"/content/drive\", force_remount=True).\n",
            " appml-assignment1-dataset-v2.pkl   'Essay Drafts'\n",
            "'Assignment 1 ML.ipynb'\t\t    'ML textbook code 1.ipynb'\n",
            " buildAndTrainModel\t\t    'Physics Project'\n",
            " correct.tfrecord\t\t    'Physics Scripts'\n",
            " createSavedDataset\t\t     Pics\n",
            " customImputeLayerDefinition.ipynb   Untitled0.ipynb\n",
            " dataset.tfrecord\n"
          ]
        }
      ],
      "source": [
        "#I'm trying to access the pickle file through drive, so I'll upload it to drive and then access it that way.\n",
        "from google.colab import drive\n",
        "\n",
        "#for authorisation\n",
        "drive.mount('/content/drive')\n",
        "\n",
        "#Drive files in \"/content/drive/My Drive\".\n",
        "!ls \"/content/drive/My Drive\"\n",
        "\n",
        "#Now let's look at the data set.\n",
        "import pandas as pd\n",
        "\n",
        "dataset = pd.read_pickle(r'/content/drive/My Drive/appml-assignment1-dataset-v2.pkl')\n",
        "\n",
        "#Printing the dataset to see:\n",
        "#dataset"
      ]
    },
    {
      "cell_type": "code",
      "source": [
        "#There are two dataframes, x and y. We've been asked to extract these two variables.\n",
        "dataframeX= dataset ['X']\n",
        "dataframeY= dataset['y']\n",
        "\n",
        "#Print X to see.\n",
        "#dataframeX"
      ],
      "metadata": {
        "id": "JbprwY1QUzXd"
      },
      "execution_count": null,
      "outputs": []
    },
    {
      "cell_type": "code",
      "source": [
        "#Now printing Y.\n",
        "#dataframeY"
      ],
      "metadata": {
        "id": "X25P581OU7Bp"
      },
      "execution_count": null,
      "outputs": []
    },
    {
      "cell_type": "code",
      "source": [
        "#We've been asked in 3.1.1.1 to \"use numpy digitize command to quantize the fractional change of the next hour’s CAD-high (in variable y)\n",
        "#versus the previous hours CAD-close into 23 bins, based on 21 evenly spaced boundaries stretching from −.001\n",
        "#to .001 and including bins for being below −.001 and above .001.\"\n",
        "\n",
        "#we get 22 bins, but this is ok.\n",
        "\n",
        "import numpy as np\n",
        "\n",
        "#to create the fractional change of the next hour’s CAD-high (in variable y) versus the previous hours CAD-close.\n",
        "\n",
        "fractional_change= (dataframeY- dataframeX['CAD-close'])/ dataframeX['CAD-close']\n",
        "\n",
        "#to create evenly spaced bins based on 21 evenly spaced boundaries from -.001 to .001\n",
        "\n",
        "evenly_spaced_bins=np.linspace(-.001, .001, num=21)\n",
        "\n",
        "#Print bins.\n",
        "#evenly_spaced_bins"
      ],
      "metadata": {
        "id": "TkFHE8jcVJmA"
      },
      "execution_count": null,
      "outputs": []
    },
    {
      "cell_type": "code",
      "source": [
        "#To see the fractional change.\n",
        "#fractional_change"
      ],
      "metadata": {
        "id": "xJ2gImnF6lne"
      },
      "execution_count": null,
      "outputs": []
    },
    {
      "cell_type": "code",
      "source": [
        "#using numpy digitise to quantise the fractional change.\n",
        "bin=np.digitize(fractional_change, evenly_spaced_bins)\n",
        "\n",
        "#to see the frequency within each bin.\n",
        "#np.bincount(bin)"
      ],
      "metadata": {
        "id": "WeQOZSE1DGL_"
      },
      "execution_count": null,
      "outputs": []
    },
    {
      "cell_type": "code",
      "source": [
        "#Set bin to a variable called target in dataframeX.\n",
        "dataframeX['target']=bin\n",
        "\n",
        "#Print the target variable within the dataframe.\n",
        "#dataframeX['target']"
      ],
      "metadata": {
        "id": "tJLIC3ZYlNk-"
      },
      "execution_count": null,
      "outputs": []
    },
    {
      "cell_type": "code",
      "source": [
        "#we can count 22 bins to verify.\n",
        "#another way to see the frequency in each bin.\n",
        "#import sys\n",
        "\n",
        "#np.set_printoptions(threshold=sys.maxsize)\n",
        "#res=pd.DataFrame({'quantized':target})\n",
        "#res['quantized'].value_counts()"
      ],
      "metadata": {
        "id": "eqmXCaeXrBmq"
      },
      "execution_count": null,
      "outputs": []
    },
    {
      "cell_type": "code",
      "source": [
        "#For the 3.1.1.2 We've been asked to \"create a 7 valued categorical attribute indicating the day of the week associated with the date attribute in the dataframe X\".\n",
        "#by looking at dataframe X, we can see that the dates are in the format YYYY-MM-DD.\n",
        "\n",
        "#let's look at that data type.\n",
        "#d= dataframeX['date']\n",
        "#d"
      ],
      "metadata": {
        "id": "ajJJZkw202PR"
      },
      "execution_count": null,
      "outputs": []
    },
    {
      "cell_type": "code",
      "source": [
        "#it is a \"datetime64\" type, so this is the solution suggested by the NumPy API references.\n",
        "dataframeX['weekday']= dataframeX['date'].dt.dayofweek\n",
        "\n",
        "#let's check\n",
        "#dataframeX['weekday']\n",
        "\n",
        "#O is monday, 6 is sunday."
      ],
      "metadata": {
        "id": "ldaHBI0c1-VS"
      },
      "execution_count": null,
      "outputs": []
    },
    {
      "cell_type": "code",
      "source": [
        "#Let's check that there are only 7 categories.\n",
        "#np.bincount(dataframeX['weekday'])"
      ],
      "metadata": {
        "id": "it-KnhKts2yH"
      },
      "execution_count": null,
      "outputs": []
    },
    {
      "cell_type": "code",
      "source": [
        "from os import times_result\n",
        "#For 3.1.1.3 We've been asked to \"create a 24 valued categorical attributed indicatin the hour of the day associated with the date attribute in the dataframe X\".\n",
        "#We know to use \"datetime64\".\n",
        "\n",
        "dataframeX['hour']= dataframeX['date'].dt.hour\n",
        "\n",
        "#Print hour.\n",
        "#dataframeX['hour']"
      ],
      "metadata": {
        "id": "wAYrmrau0zfa"
      },
      "execution_count": null,
      "outputs": []
    },
    {
      "cell_type": "code",
      "source": [
        "#to check that there are 24 categories.\n",
        "\n",
        "#np.bincount(dataframeX['hour'])"
      ],
      "metadata": {
        "id": "qMCUifp6z8vM"
      },
      "execution_count": null,
      "outputs": []
    },
    {
      "cell_type": "code",
      "source": [
        "#For 3.1.1.4 We've been asked to \"create a 12 valued categorical attribute indicate the month of the year associated with the date attribute in the dataframe X\".\n",
        "#similar method as above:\n",
        "\n",
        "dataframeX['month']= dataframeX['date'].dt.month\n",
        "#Print month.\n",
        "#dataframeX['month']"
      ],
      "metadata": {
        "id": "Tzad4u0cXWcu"
      },
      "execution_count": null,
      "outputs": []
    },
    {
      "cell_type": "code",
      "source": [
        "#There should be 12 categories.\n",
        "#np.bincount(dataframeX['month'])\n",
        "#There are technically 13, but 0 has none. So, from 1-12, with no values for 0."
      ],
      "metadata": {
        "id": "_lMEAyHNYNev"
      },
      "execution_count": null,
      "outputs": []
    },
    {
      "cell_type": "code",
      "source": [
        "#For 3.1.2 sort 'tickers' as a FloatList. 'weekday', 'hour', 'month', and 'target' as Int64List. Create example protobufs for each instance.\n",
        "import tensorflow as tf\n",
        "from tensorflow.train import BytesList, FloatList, Int64List\n",
        "from tensorflow.train import Feature, Features, Example\n",
        "\n",
        "with tf.io.TFRecordWriter('/content/drive/My Drive/dataset.tfrecord') as f:\n",
        "  for row in dataframeX.iterrows():\n",
        "    myDict={\"tickers\": Feature(float_list= FloatList(value=row[1][dataframeX.columns[1:-4]].values)),\n",
        "            \"weekday\": Feature(int64_list= Int64List(value=[row[1]['weekday']])),\n",
        "            \"hour\": Feature(int64_list= Int64List(value=[row[1]['hour']])),\n",
        "            \"month\": Feature(int64_list= Int64List(value=[row[1]['month']])),\n",
        "            \"target\": Feature(int64_list= Int64List(value=[row[1]['target']]))}\n",
        "    myExamp=Example(features=Features(feature=myDict))\n",
        "    f.write(myExamp.SerializeToString())\n",
        "\n",
        "#Creating an example protobuf for each instance. Serialising each example object into a string and written to a tfrecords file,\n",
        "#named dataset.tfrecords containing example protobufs."
      ],
      "metadata": {
        "id": "Cm56ILGYcEvw"
      },
      "execution_count": null,
      "outputs": []
    },
    {
      "cell_type": "code",
      "source": [
        "#Now checking if the file created matches the correct.tfrecords file.\n",
        "\n",
        "#filepath= [\"/content/drive/My Drive/correct.tfrecord\"]\n",
        "#filepath1=['/content/drive/My Drive/dataset.tfrecord']\n",
        "\n",
        "correct_dataset = tf.data.TFRecordDataset(filepath)\n",
        "#my_dataset = tf.data.TFRecordDataset(filepath1)\n",
        "\n",
        "#Checking Correct Dataset:\n",
        "#for raw_record in correct_dataset.take(1):\n",
        "#  example=tf.train.Example()\n",
        "\n",
        "#example.ParseFromString(raw_record.numpy())\n",
        "\n",
        "#print(example)"
      ],
      "metadata": {
        "id": "ZhkIdIbqEM7l"
      },
      "execution_count": null,
      "outputs": []
    },
    {
      "cell_type": "code",
      "source": [
        "#Checking my dataset:\n",
        "#for raw_record in my_dataset.take(1):\n",
        "#  example=tf.train.Example()\n",
        "\n",
        "#example.ParseFromString(raw_record.numpy())\n",
        "\n",
        "#print(example)\n",
        "\n",
        "#The difference between the two datasets is clearly within the two target variables, but that has been addressed, 22 bins rather than 23."
      ],
      "metadata": {
        "id": "PhpLaQlFLwxx"
      },
      "execution_count": null,
      "outputs": []
    },
    {
      "cell_type": "code",
      "source": [
        "#Another way to check:\n",
        "#feature_description= {\"tickers\": tf.io.FixedLenFeature([188], tf.float32, default_value=np.zeros(188)),\n",
        "#                      \"weekday\": tf.io.FixedLenFeature([], tf.int64, default_value=0),\n",
        "#                      \"hour\": tf.io.FixedLenFeature([], tf.int64, default_value=0),\n",
        "#                      \"month\": tf.io.FixedLenFeature([], tf.int64, default_value=0),\n",
        "#                      \"target\":tf.io.FixedLenFeature([], tf.int64, default_value=0)}\n",
        "\n",
        "#for serialized_example in correct_dataset:\n",
        "#  parsed_example= tf.io.parse_single_example(serialized_example,feature_description)\n",
        "\n",
        "#for serialized_example in my_dataset:\n",
        "#  parsed_example1= tf.io.parse_single_example(serialized_example,feature_description)"
      ],
      "metadata": {
        "id": "bL4_SJWpTBrL"
      },
      "execution_count": null,
      "outputs": []
    }
  ]
}