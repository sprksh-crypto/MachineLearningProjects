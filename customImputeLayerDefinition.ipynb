{
  "nbformat": 4,
  "nbformat_minor": 0,
  "metadata": {
    "colab": {
      "provenance": [],
      "authorship_tag": "ABX9TyOQWAq54UyuL5T3vlc7q7Hg",
      "include_colab_link": true
    },
    "kernelspec": {
      "name": "python3",
      "display_name": "Python 3"
    },
    "language_info": {
      "name": "python"
    }
  },
  "cells": [
    {
      "cell_type": "markdown",
      "metadata": {
        "id": "view-in-github",
        "colab_type": "text"
      },
      "source": [
        "<a href=\"https://colab.research.google.com/github/sprksh-crypto/MachineLearningProjects/blob/Classification/customImputeLayerDefinition.ipynb\" target=\"_parent\"><img src=\"https://colab.research.google.com/assets/colab-badge.svg\" alt=\"Open In Colab\"/></a>"
      ]
    },
    {
      "cell_type": "code",
      "execution_count": null,
      "metadata": {
        "id": "fgl77opgJiBM"
      },
      "outputs": [],
      "source": [
        "#In 3.2 we've been asked to define a new class ImputerLayer creating a custom Keras preprocessing layer to replace NaN values with the mean\n",
        "#across instances without NaN in this position. An adapt method must calculate the mean of the original non-NaN,\n",
        "#values of each position in the vector input. Then the call method must replace the NaN values with the computed mean.\n",
        "\n",
        "import tensorflow as tf\n",
        "\n",
        "#Creating a custom Keras preprocessing layer.\n",
        "\n",
        "class myImputer(tf.keras.layers.experimental.preprocessing.PreprocessingLayer):\n",
        "  def __init__(self, **kwargs):\n",
        "    super().__init__( **kwargs)\n",
        "  def build(self,batch_input_shape):\n",
        "    self.means=self.add_weight(name='means',shape=(batch_input_shape[-1]), initializer=\"zeros\",trainable=False)\n",
        "    super().build(batch_input_shape)\n",
        "\n",
        "#Using call to replace the means.\n",
        "\n",
        "  def call(self, X):\n",
        "    return tf.where(tf.math.is_nan(X),self.means,X)\n",
        "\n",
        "#Using adapt to calculate means of original non-NaNs.\n",
        "\n",
        "  def adapt(self, dataset):\n",
        "    self.build(dataset.element_spec.shape)\n",
        "    sumOfNonNaNs=dataset.map(lambda z: tf.where(tf.math.is_nan(z), tf.zeros_like(z),z)).reduce(tf.zeros_like(self.means), lambda x,y: x+tf.reduce_sum(y,axis=0))\n",
        "    numberOfNonNaNs=dataset.map(lambda z: tf.where(tf.math.is_nan(z),tf.zeros_like(z),tf.ones_like(z))).reduce(tf.zeros_like(self.means),lambda x,y: x+tf.reduce_sum(y,axis=0))\n",
        "    self.means.assign(tf.math.divide(sumOfNonNaNs,numberOfNonNaNs))\n",
        "  def compute_output_shape(self,batch_input_shape):\n",
        "    return batch_input_shape"
      ]
    },
    {
      "cell_type": "code",
      "source": [
        "#In 3.2.1 we've been asked to define a parse example method which converts the serialized example protobufs back into dictionaries with the\n",
        "#keys tickers, weekday, hour, month, target then returns an ordered pair of the dictionary without the target and\n",
        "#the target for use with supervised training.\n",
        "\n",
        "import numpy as np\n",
        "\n",
        "#First, all but the first column (tickers) are ints, let's deal with them.\n",
        "#num_cols=mod_dataframe[1:]\n",
        "\n",
        "feature_description= {\"tickers\": tf.io.FixedLenFeature([188], tf.float32, default_value=np.zeros(188)),\n",
        "                      \"weekday\": tf.io.FixedLenFeature([], tf.int64, default_value=0),\n",
        "                      \"hour\": tf.io.FixedLenFeature([], tf.int64, default_value=0),\n",
        "                      \"month\": tf.io.FixedLenFeature([], tf.int64, default_value=0),\n",
        "                      \"target\":tf.io.FixedLenFeature([], tf.int64, default_value=0)}\n",
        "\n",
        "def parse_example(serialised):\n",
        "  examples_parsed=tf.io.parse_example(serialised, feature_description)\n",
        "  target=examples_parsed.pop('target')\n",
        "  return examples_parsed, target"
      ],
      "metadata": {
        "id": "VZwAzn6IU6k4"
      },
      "execution_count": null,
      "outputs": []
    },
    {
      "cell_type": "code",
      "source": [
        "#Need to mount drive again.\n",
        "\n",
        "from google.colab import drive\n",
        "\n",
        "#for authorisation\n",
        "drive.mount('/content/drive')\n",
        "\n",
        "#Drive files in \"/content/drive/My Drive\".\n",
        "!ls \"/content/drive/My Drive\"\n",
        "\n"
      ],
      "metadata": {
        "colab": {
          "base_uri": "https://localhost:8080/"
        },
        "id": "OwoVLXt9bQDr",
        "outputId": "470da9e5-8774-4d3a-dc8f-7228cb8f7428"
      },
      "execution_count": null,
      "outputs": [
        {
          "output_type": "stream",
          "name": "stdout",
          "text": [
            "Drive already mounted at /content/drive; to attempt to forcibly remount, call drive.mount(\"/content/drive\", force_remount=True).\n",
            " appml-assignment1-dataset-v2.pkl   'ML HW 1.3'\n",
            "'Assignment 1 ML.ipynb'\t\t    'ML textbook code 1.ipynb'\n",
            " correct.tfrecord\t\t     mySavedModel\n",
            " createSavedDataset\t\t    'Physics Project'\n",
            " customImputeLayerDefinition.ipynb  'Physics Scripts'\n",
            " dataset.tfrecord\t\t     Pics\n",
            "'Essay Drafts'\t\t\t     Untitled0.ipynb\n"
          ]
        }
      ]
    },
    {
      "cell_type": "code",
      "source": [
        "#3.2.2 Asks to load the dataset from the tfrecords file, batch it with a batch size of your selection, and process it with the parse\n",
        "#example method. Cache the result in memory using the cache command from the data API.\n",
        "\n",
        "filepath=['/content/drive/My Drive/dataset.tfrecord']\n",
        "dataset=tf.data.TFRecordDataset(filepath)"
      ],
      "metadata": {
        "id": "tD5nQcfnFS-j"
      },
      "execution_count": null,
      "outputs": []
    },
    {
      "cell_type": "code",
      "source": [
        "#3.2.3 asks to split the dataset into training, validation, and testing datasets.\n",
        "\n",
        "datLen=dataset.reduce(0,lambda x,y: x+1)\n",
        "\n",
        "n_valid=int(datLen.numpy()*.1)\n",
        "n_test=int(datLen.numpy()*.2)\n",
        "n_train=datLen.numpy()-n_valid-n_test\n",
        "\n",
        "dataset_train=dataset.take(n_train).batch(4096).map(parse_example,num_parallel_calls=tf.data.AUTOTUNE).cache()\n",
        "dataset_test=dataset.skip(n_train).take(n_test).batch(4096).map(parse_example,num_parallel_calls=tf.data.AUTOTUNE).cache()\n",
        "dataset_validation=dataset.skip(n_train+n_test).take(n_valid).batch(4096).map(parse_example,num_parallel_calls=tf.data.AUTOTUNE).cache()\n",
        "\n"
      ],
      "metadata": {
        "id": "rCCKdqfk0EBd"
      },
      "execution_count": null,
      "outputs": []
    },
    {
      "cell_type": "code",
      "source": [
        "#To check if I'm getting the right dataset.\n",
        "#for el in manipulated_dataset.take(1):\n",
        "#  print(el)"
      ],
      "metadata": {
        "id": "JrjSkUImHKIy"
      },
      "execution_count": null,
      "outputs": []
    },
    {
      "cell_type": "code",
      "source": [
        "#3.2.4 asks to create a series of 4 keras inputs for the 4 labels in the instance dictionary (tickers,weekday,hour,month), specifying\n",
        "#the appropriate datatype and shape.\n",
        "\n",
        "keras_inputs_Dict={'tickers': tf.keras.Input((188), dtype=tf.float32),\n",
        "                   'weekday': tf.keras.Input((),dtype=tf.int64),\n",
        "                   'hour': tf.keras.Input((),dtype=tf.int64),\n",
        "                   'month': tf.keras.Input((),dtype=tf.int64)}"
      ],
      "metadata": {
        "id": "mvNHqWstSF3Z"
      },
      "execution_count": null,
      "outputs": []
    },
    {
      "cell_type": "code",
      "source": [
        "#3.2.5 asks to import  the ImputerLayer, and adapt it to the training data for the tickers attributes.\n",
        "\n",
        "myImp=myImputer()\n",
        "myImp.adapt(dataset_train.map(lambda x,y: x['tickers']))"
      ],
      "metadata": {
        "id": "A9a-OOUJk9Vo"
      },
      "execution_count": null,
      "outputs": []
    },
    {
      "cell_type": "code",
      "source": [
        "#3.2.6 asks us to create a Keras preprocessing normalization and adapt it to output of the imputer applied to the training data\n",
        "#for the tickers attributes.\n",
        "\n",
        "#normalisation layer\n",
        "normalizer=tf.keras.layers.Normalization(axis=-1)\n",
        "#targets need to be removed, because we don't want adapt to learn the weights for it.\n",
        "normalizer.adapt(dataset_train.map(lambda x,y:myImp(x['tickers'])))"
      ],
      "metadata": {
        "id": "66CtOnYglpUY"
      },
      "execution_count": null,
      "outputs": []
    },
    {
      "cell_type": "code",
      "source": [
        "#3.2.7 \"The tickers input should feed into the ImputerLayer followed by the Normalizer.\""
      ],
      "metadata": {
        "id": "A8rDRLnLnKd4"
      },
      "execution_count": null,
      "outputs": []
    }
  ]
}