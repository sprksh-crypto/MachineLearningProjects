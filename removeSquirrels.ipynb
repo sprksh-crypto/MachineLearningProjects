{
  "nbformat": 4,
  "nbformat_minor": 0,
  "metadata": {
    "colab": {
      "provenance": [],
      "authorship_tag": "ABX9TyOruyXnSjrmKIk4rrOJA7oL",
      "include_colab_link": true
    },
    "kernelspec": {
      "name": "python3",
      "display_name": "Python 3"
    },
    "language_info": {
      "name": "python"
    }
  },
  "cells": [
    {
      "cell_type": "markdown",
      "metadata": {
        "id": "view-in-github",
        "colab_type": "text"
      },
      "source": [
        "<a href=\"https://colab.research.google.com/github/sprksh-crypto/MachineLearningProjects/blob/main/removeSquirrels.ipynb\" target=\"_parent\"><img src=\"https://colab.research.google.com/assets/colab-badge.svg\" alt=\"Open In Colab\"/></a>"
      ]
    },
    {
      "cell_type": "code",
      "execution_count": null,
      "metadata": {
        "colab": {
          "base_uri": "https://localhost:8080/"
        },
        "id": "2KQjmVQWL9Vr",
        "outputId": "2f3e564c-cff3-4195-fab0-8bc74a2d6af2"
      },
      "outputs": [
        {
          "output_type": "stream",
          "name": "stdout",
          "text": [
            "Mounted at /content/drive\n",
            " bird_birdfeeder_random\n",
            "'Copy of 4131.jpg'\n",
            "'Copy of hw3_dataset.tfrecord'\n",
            "'Essay Drafts'\n",
            " hw3_dataset.tfrecord\n",
            "'MLHW 3'\n",
            " MLHW3.2\n",
            " MLHW3.3\n",
            "'ML Lab 1'\n",
            "'ML Lab 2'\n",
            "'ML Lab 3'\n",
            "'Physics Project'\n",
            "'Physics Scripts'\n",
            " Pics\n",
            "'pictures of squirrels at birdfeeders - Google Searc'\n",
            " squirrel_birdfeeder_random\n",
            " squirrel.jpg\n",
            " yolov3.cfg\n",
            " yolov3.weights\n"
          ]
        }
      ],
      "source": [
        "#takes a list of 5 filenames of jpeg files and a list of masks for the squirrels in each of them,\n",
        "#and writes a series of 5 files to the present directory, appending to the prefix (coming before .jpg) to their\n",
        "#filenames “-squirrelsRemoved.jpg”. The squirrels are to removed in these images by inpainting.\n",
        "\n",
        "from google.colab import drive\n",
        "\n",
        "#for authorisation\n",
        "drive.mount('/content/drive')\n",
        "\n",
        "#Drive files in \"/content/drive/My Drive\".\n",
        "!ls \"/content/drive/My Drive\""
      ]
    },
    {
      "cell_type": "code",
      "source": [
        "#!pip install --upgrade pip\n",
        "\n",
        "#!pip install diffusers\n",
        "#!pip install transformers\n",
        "#!pip install torch\n",
        "#!pip install accelerate"
      ],
      "metadata": {
        "id": "QqrhYkNtONyd"
      },
      "execution_count": null,
      "outputs": []
    },
    {
      "cell_type": "code",
      "source": [
        "folderPath='/content/drive/My Drive/'\n",
        "filename='file.jpg'\n",
        "newPath=folderPath+filename\n",
        "newPath"
      ],
      "metadata": {
        "colab": {
          "base_uri": "https://localhost:8080/",
          "height": 35
        },
        "id": "kgDgusIVi4fC",
        "outputId": "2229cc68-a998-4f48-f4bc-a6414020c7d0"
      },
      "execution_count": null,
      "outputs": [
        {
          "output_type": "execute_result",
          "data": {
            "text/plain": [
              "'/content/drive/My Drive/file.jpg'"
            ],
            "application/vnd.google.colaboratory.intrinsic+json": {
              "type": "string"
            }
          },
          "metadata": {},
          "execution_count": 4
        }
      ]
    },
    {
      "cell_type": "code",
      "source": [
        "  import cv2\n",
        "  import numpy as np\n",
        "  import tensorflow as tf\n",
        "  import os"
      ],
      "metadata": {
        "id": "lvD53ntce4t0"
      },
      "execution_count": null,
      "outputs": []
    },
    {
      "cell_type": "code",
      "source": [
        "#None of these codes work, all of them are jumbled around, but this is me trying a bunch of different methods."
      ],
      "metadata": {
        "id": "LLfcX-yCfQH7"
      },
      "execution_count": null,
      "outputs": []
    },
    {
      "cell_type": "code",
      "source": [
        "def removeSquirrel(fiveJPEGfilenames, squirrelMasks):\n",
        "\n",
        "length= len(fiveJPEGfilenames)\n",
        "\n",
        "  for i in length:\n",
        "    image=cv2.imread(fiveJPEGfilenames[i])\n",
        "\n",
        "    preImpaintedImage=image.copy()\n",
        "\n",
        "    mask1 = np.uint8(squirrelMasks[i])\n",
        "    inpaintedImage=cv2.inpaint(preImpaintedImage, mask1, 3, cv2.INPAINT_TELEA)\n",
        "\n",
        "    orgFilename, extension = os.path.splitext(fname)\n",
        "    newFilename= f\"{orgFilename}-squirrelsRemoved{extension}\"\n",
        "    cv2.imwrite(newFilename, inpaintedImage)"
      ],
      "metadata": {
        "id": "JewOVfSUNomW"
      },
      "execution_count": null,
      "outputs": []
    },
    {
      "cell_type": "code",
      "source": [
        "  import tensorflow as tf\n",
        "  import cv2\n",
        "  import numpy as np"
      ],
      "metadata": {
        "id": "atXnTd-agA_y"
      },
      "execution_count": null,
      "outputs": []
    },
    {
      "cell_type": "code",
      "source": [
        "def removeSquirrel1(fileList,squirrelMasks):\n",
        "\n",
        "  filenames_without_ext=[]\n",
        "\n",
        "  #First I need to read in all of the original images:\n",
        "\n",
        "  for i, fl in enumerate(fileList):\n",
        "\n",
        "    inSquirrelIm=cv2.imread(fl)\n",
        "\n",
        "#    print(inSquirrelIm.shape, inSquirrelIm.dtype)\n",
        "#    print(squirrelMask[i].shape, squirrelMask[i].dtype)\n",
        "\n",
        "    name_without_ext= fl.split('.')[0]\n",
        "\n",
        "#    print(squirrelMasks)\n",
        "\n",
        "    if mask.shape[-1] != inSquirrelIm.shape[-1]:\n",
        "      mask= np.expand_dims(mask, axis=-1)\n",
        "\n",
        "#    _, thresholded_mask = cv2.threshold(squirrelMask[i], 1, 255, cv2.THRESH_BINARY)\n",
        "\n",
        "    mask_image = squirrelMask[i].convert('L')  # Convert to grayscale\n",
        "    mask_image = mask_image.point(lambda x: 255 if x > 0 else 0, '1')\n",
        "\n",
        "    dst = cv2.inpaint(inSquirrelIm, mask_image, 3, cv2.INPAINT_NS)\n",
        "    cv2.imwrite('/content/drive/My Drive/squirrelsGone/'+name_without_ext+'-squirrelsRemoved.jpg', dst)\n",
        "\n",
        "\n",
        "#    sqMask=cv2.imread(sqMsk)\n",
        "#    squirrelMasks = sqMsk.np()\n",
        "#    squirrelMasks1= np.uint8(*255)\n",
        "\n",
        "#    print(sqMsk.shape, sqMsk.dtype)\n"
      ],
      "metadata": {
        "id": "6JkNQUUYf5DC"
      },
      "execution_count": null,
      "outputs": []
    },
    {
      "cell_type": "code",
      "source": [
        "def removeSquirrel2(fileList,squirrelMasks):\n",
        "\n",
        "  import tensorflow as tf\n",
        "\n",
        "  filenames_without_ext=[]\n",
        "\n",
        "  #First I need to read in all of the original images:\n",
        "\n",
        "  for fl in fileList:\n",
        "    image_path = '/content/drive/My Drive/squirrel_birdfeeder_random/' + fl\n",
        "\n",
        "    inSquirrelIm=tf.io.decode_jpeg(tf.io.read_file(image_path),channels=3)\n",
        "\n",
        "    name_without_ext= fl.split('.')[0]\n",
        "    filenames_without_ext.append(name_without_ext)\n",
        "\n",
        "#    print(inSquirrelIm.shape, inSquirrelIm.dtype)\n",
        "\n",
        "  #Then I need to load the squirrel masks.\n",
        "\n",
        "  for sqMsk in squirrelMask:\n",
        "    squirrelMasks = tf.convert_to_tensor(sqMsk)\n",
        "    print(squirrelMasks.shape, squirrelMasks.dtype)"
      ],
      "metadata": {
        "id": "PYhZnbpFgvLq"
      },
      "execution_count": null,
      "outputs": []
    },
    {
      "cell_type": "code",
      "source": [
        "def removeSquirrel3(fileList, squirrelMasks):\n",
        "\n",
        "  from PIL import Image\n",
        "  import matplotlib.pyplot as plt\n",
        "\n",
        "  for i in range(len(fileList)):\n",
        "      image_path = '/content/drive/My Drive/squirrel_birdfeeder_random/'+ fileList[i]\n",
        "      original_image = Image.open(image_path).resize((512, 512))\n",
        "      masked_image = Image.open(squirrelMasks[i]).resize((512, 512))\n",
        "      prompt = 'Grass field, high resolution'\n",
        "      inpainted_image = pipeline(prompt=prompt, image=original_image, mask_image=masked_image).images[0]\n",
        "\n",
        "      plt.imshow(inpainted_image)"
      ],
      "metadata": {
        "id": "f-246jNghNxh"
      },
      "execution_count": null,
      "outputs": []
    }
  ]
}